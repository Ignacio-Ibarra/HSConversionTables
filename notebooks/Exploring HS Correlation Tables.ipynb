{
 "cells": [
  {
   "cell_type": "markdown",
   "id": "22474d24-a90f-48d3-afe1-457fb749a36a",
   "metadata": {},
   "source": [
    "### (Execute if your running in Binder)"
   ]
  },
  {
   "cell_type": "code",
   "execution_count": null,
   "id": "514bd1c1-bb20-4c47-a19e-40396e11f12d",
   "metadata": {},
   "outputs": [],
   "source": [
    "# Uncomment these lines\n",
    "\n",
    "# !pip install pandas\n",
    "# !pip install openpyxl\n",
    "# !pip install networkx"
   ]
  },
  {
   "cell_type": "markdown",
   "id": "5c86a657-3557-4b4e-95e3-c97f6f2700b4",
   "metadata": {
    "tags": []
   },
   "source": [
    "# Exploring HS Correlation Tables"
   ]
  },
  {
   "cell_type": "code",
   "execution_count": 2,
   "id": "449c40cf-8a6e-47a8-b14c-9681f917c70d",
   "metadata": {},
   "outputs": [],
   "source": [
    "import pandas as pd\n",
    "import os\n",
    "from pathlib import Path\n",
    "import platform\n",
    "import networkx as nx\n",
    "\n",
    "HSTABLES = \"https://unstats.un.org/unsd/trade/classifications/tables/CompleteCorrelationsOfHS-SITC-BEC_20170606.xlsx\"\n",
    "HS = ['HS92', 'HS96', 'HS02', 'HS07', 'HS12', 'HS17'] #should be updated if changed\n",
    "\n",
    "data = pd.read_excel(HSTABLES,\n",
    "                     usecols= HS,\n",
    "                     dtype = {v:'object' for v in HS}).dropna().drop_duplicates()\n",
    "\n",
    "for col in HS: \n",
    "    data[col] = data[col].apply(lambda x: col+\"-\"+str(int(x)).zfill(6))\n",
    "connections = []\n",
    "for i in range(len(HS)-1): \n",
    "        temp_tup_list = list(data[[HS[i], HS[i+1]]].drop_duplicates().itertuples(index=False, name=None))\n",
    "        connections = connections + temp_tup_list\n",
    "        \n",
    "G = nx.Graph()\n",
    "G.add_edges_from(connections)"
   ]
  },
  {
   "cell_type": "code",
   "execution_count": 11,
   "id": "b9e86302-dbbc-41ca-a94f-e4c9529d23f4",
   "metadata": {},
   "outputs": [
    {
     "data": {
      "image/png": "[encoded data removed]",
      "text/plain": [
       "<Figure size 432x288 with 1 Axes>"
      ]
     },
     "metadata": {
      "needs_background": "light"
     },
     "output_type": "display_data"
    }
   ],
   "source": [
    "# Number of distinct positions by version\n",
    "import matplotlib.pyplot as plt\n",
    "\n",
    "data.nunique().plot(kind='bar'); plt.show()"
   ]
  },
  {
   "cell_type": "code",
   "execution_count": 12,
   "id": "677762b8-c2f4-4d56-a946-2be4b7ba0d18",
   "metadata": {},
   "outputs": [
    {
     "data": {
      "text/plain": [
       "3832"
      ]
     },
     "execution_count": 12,
     "metadata": {},
     "output_type": "execute_result"
    }
   ],
   "source": [
    "# Number of homogeneous positions\n",
    "len(list(nx.connected_components(G)))"
   ]
  },
  {
   "cell_type": "code",
   "execution_count": 13,
   "id": "4156b451-9c5d-4b74-87ff-b807ead8dd64",
   "metadata": {},
   "outputs": [
    {
     "data": {
      "text/plain": [
       "3328"
      ]
     },
     "execution_count": 13,
     "metadata": {},
     "output_type": "execute_result"
    }
   ],
   "source": [
    "# Number of positions with 1:1 relations between all versions\n",
    "len([x for x in list(nx.connected_components(G)) if len(x)==6])"
   ]
  },
  {
   "cell_type": "code",
   "execution_count": 14,
   "id": "5fcddf8b-a46c-4fb0-8b2e-ce4e9b8541f2",
   "metadata": {},
   "outputs": [
    {
     "data": {
      "text/plain": [
       "504"
      ]
     },
     "execution_count": 14,
     "metadata": {},
     "output_type": "execute_result"
    }
   ],
   "source": [
    "# Number of positions with more than 1 position in at least one version\n",
    "len([x for x in list(nx.connected_components(G)) if len(x)>6])"
   ]
  },
  {
   "cell_type": "code",
   "execution_count": 15,
   "id": "9568c5af-6546-4c46-8a08-846f467a68bb",
   "metadata": {},
   "outputs": [
    {
     "data": {
      "text/plain": [
       "8.09159707724426"
      ]
     },
     "execution_count": 15,
     "metadata": {},
     "output_type": "execute_result"
    }
   ],
   "source": [
    "from statistics import mean, median\n",
    "\n",
    "# Average number of connected positions\n",
    "mean([len(x) for x in list(nx.connected_components(G))])"
   ]
  },
  {
   "cell_type": "code",
   "execution_count": 16,
   "id": "ef2cc158-1c65-4dd0-a0b3-8da79669a377",
   "metadata": {},
   "outputs": [
    {
     "data": {
      "text/plain": [
       "6.0"
      ]
     },
     "execution_count": 16,
     "metadata": {},
     "output_type": "execute_result"
    }
   ],
   "source": [
    "# Median number of connected positions\n",
    "median([len(x) for x in list(nx.connected_components(G))])"
   ]
  }
 ],
 "metadata": {
  "kernelspec": {
   "display_name": "Python 3 (ipykernel)",
   "language": "python",
   "name": "python3"
  },
  "language_info": {
   "codemirror_mode": {
    "name": "ipython",
    "version": 3
   },
   "file_extension": ".py",
   "mimetype": "text/x-python",
   "name": "python",
   "nbconvert_exporter": "python",
   "pygments_lexer": "ipython3",
   "version": "3.9.7"
  }
 },
 "nbformat": 4,
 "nbformat_minor": 5
}
