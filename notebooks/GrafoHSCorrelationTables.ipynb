{
 "cells": [
  {
   "cell_type": "markdown",
   "id": "90fab08c-04ae-4b25-b88d-5c291faa740f",
   "metadata": {
    "tags": []
   },
   "source": [
    "# Grafo Tablas Correlación del HS"
   ]
  },
  {
   "cell_type": "markdown",
   "id": "54f894da-1249-4fb1-b4bf-a40a2bc32168",
   "metadata": {},
   "source": [
    "El presente notebook contiene todo el programa necesario para procesar las tablas de correlación y para obtener los siguientes resultados: \n",
    "\n",
    "* Para una posición dada se obtiene el horizonte temporal máximo con el que se puede contar sin que se pierda precisión en el producto estudiado. \n",
    "* Dado un horizonte temporal de estudio deseado y una posición, el programa devuelve todas las posiciones que son necesarias agregar para obtener un producto homogéneo a lo largo del tiempo. La salida se puede obtener mediante un Digrama de Sankey o mediante texto. \n",
    "* Una vez inicializada la clase HSCorrelations(), se puede consultar otros métodos mediante `available_methods()`\n",
    "    "
   ]
  },
  {
   "cell_type": "code",
   "execution_count": null,
   "id": "186272f4-1b9a-41de-be74-eaa1ffad6728",
   "metadata": {
    "tags": []
   },
   "outputs": [
    {
     "name": "stdout",
     "output_type": "stream",
     "text": [
      "Loading HS Correlation Tables from path provided\n",
      "Tables already loaded. Use `available_methods()` for more information\n",
      "\n"
     ]
    }
   ],
   "source": [
    "from HSCorrelations import * #Todo el progrma se encuentra en HSCorrelations.py\n",
    "fullpath = 'C:\\\\Users\\\\Usuario\\\\Desktop\\\\CEP\\\\HSConversionTables\\\\data\\\\CompleteCorrelationsOfHS-SITC-BEC_20170606.xlsx'\n",
    "tables = HSCorrelations(path = fullpath)"
   ]
  },
  {
   "cell_type": "markdown",
   "id": "d92b0a0c-93b7-435e-a1d6-75482c28b3db",
   "metadata": {
    "jp-MarkdownHeadingCollapsed": true,
    "tags": []
   },
   "source": [
    "## ¿Cuál es el horizonte temporal máximo sin pérdida de precisión dada una posición? "
   ]
  },
  {
   "cell_type": "code",
   "execution_count": 6,
   "id": "b5901d02-aaa6-4716-a2c3-f61e355afe5d",
   "metadata": {},
   "outputs": [
    {
     "name": "stdout",
     "output_type": "stream",
     "text": [
      "010641 - Insects; live, bees\n",
      "***************************************************************************\n",
      "Period between 1992 and 2022 contains the HS92,HS96,HS02,HS07,HS12,HS17 versions\n",
      "\n",
      "Loading HS Correlations Tables\n",
      "\n",
      "The position 010641 was included in the HS12,HS17 versions\n",
      "\n",
      "Evaluating maximum period with no precision loss for position 010641\n",
      "\n",
      "Evaluating graph object with HS12,HS17 versions\n",
      "\n",
      "Your position has no precision loss from 2012 to 2022\n"
     ]
    }
   ],
   "source": [
    "print(tables.position_to_desc(\"010641\", HS=\"HS17\"))\n",
    "print(\"*\"*75)\n",
    "tables.trade_off(\"010641\", 1992, 2022)"
   ]
  },
  {
   "cell_type": "code",
   "execution_count": 8,
   "id": "e7fc79ba-1983-4f12-92f4-694f0a7c429e",
   "metadata": {},
   "outputs": [
    {
     "name": "stdout",
     "output_type": "stream",
     "text": [
      "010130 - Asses; live\n",
      "***************************************************************************\n",
      "Period between 1992 and 2022 contains the HS92,HS96,HS02,HS07,HS12,HS17 versions\n",
      "\n",
      "Loading HS Correlations Tables\n",
      "\n",
      "The position 010130 was included in the HS12,HS17 versions\n",
      "\n",
      "Evaluating maximum period with no precision loss for position 010130\n",
      "\n",
      "Evaluating graph object with HS12,HS17 versions\n",
      "\n",
      "Your position has no precision loss from 2012 to 2022\n"
     ]
    }
   ],
   "source": [
    "print(tables.position_to_desc(\"010130\", HS=\"HS17\"))\n",
    "print(\"*\"*75)\n",
    "tables.trade_off(\"010130\", 1992, 2022)"
   ]
  },
  {
   "cell_type": "code",
   "execution_count": 9,
   "id": "dd97c8ad-8fe6-4109-9a05-deaffe76965a",
   "metadata": {},
   "outputs": [
    {
     "name": "stdout",
     "output_type": "stream",
     "text": [
      "020110 - Meat; of bovine animals, carcasses and half-carcasses, fresh or chilled\n",
      "***************************************************************************\n",
      "Period between 1992 and 2022 contains the HS92,HS96,HS02,HS07,HS12,HS17 versions\n",
      "\n",
      "Loading HS Correlations Tables\n",
      "\n",
      "The position 020110 was included in the HS92,HS96,HS02,HS07,HS12,HS17 versions\n",
      "\n",
      "Evaluating maximum period with no precision loss for position 020110\n",
      "\n",
      "Evaluating graph object with HS12,HS17 versions\n",
      "\n",
      "Evaluating graph object with HS07,HS12,HS17 versions\n",
      "\n",
      "Evaluating graph object with HS02,HS07,HS12,HS17 versions\n",
      "\n",
      "Evaluating graph object with HS96,HS02,HS07,HS12,HS17 versions\n",
      "\n",
      "Evaluating graph object with HS92,HS96,HS02,HS07,HS12,HS17 versions\n",
      "\n",
      "Your position has no precision loss from 1992 to 2022\n"
     ]
    }
   ],
   "source": [
    "print(tables.position_to_desc(\"020110\", HS=\"HS17\"))\n",
    "print(\"*\"*75)\n",
    "tables.trade_off(\"020110\", 1992, 2022)"
   ]
  },
  {
   "cell_type": "markdown",
   "id": "f8852f4d-34a5-4721-b356-ef0ebfe0db0f",
   "metadata": {
    "jp-MarkdownHeadingCollapsed": true,
    "tags": []
   },
   "source": [
    "## ¿Qué sacrificio en precisión es necesario dado un horizonte temporal y una posición determinados? "
   ]
  },
  {
   "cell_type": "code",
   "execution_count": 11,
   "id": "c9e0bce0-ab9a-4737-924b-488f03965bf1",
   "metadata": {},
   "outputs": [
    {
     "name": "stdout",
     "output_type": "stream",
     "text": [
      "010641 - Insects; live, bees\n",
      "***************************************************************************\n"
     ]
    },
    {
     "data": {
      "text/plain": [
       "['HS12-010641', 'HS17-010641']"
      ]
     },
     "execution_count": 11,
     "metadata": {},
     "output_type": "execute_result"
    }
   ],
   "source": [
    "#La posición \"010641\" no pierde precisión desde 2012 hasta la actualidadprint(tables.position_to_desc(\"010641\", HS=\"HS17\"))\n",
    "print(tables.position_to_desc(\"010641\", HS=\"HS17\"))\n",
    "print(\"*\"*75)\n",
    "tables.find_homogeneous_serie(\"010641\", 2012, 2022)"
   ]
  },
  {
   "cell_type": "code",
   "execution_count": 12,
   "id": "a3ea2a71-24ba-4a5d-8103-3ca53b444300",
   "metadata": {},
   "outputs": [
    {
     "name": "stdout",
     "output_type": "stream",
     "text": [
      "010641 - Insects; live, bees\n",
      "***************************************************************************\n"
     ]
    },
    {
     "data": {
      "text/plain": [
       "['HS07-010690',\n",
       " 'HS12-010641',\n",
       " 'HS12-010649',\n",
       " 'HS12-010690',\n",
       " 'HS17-010641',\n",
       " 'HS17-010649',\n",
       " 'HS17-010690']"
      ]
     },
     "execution_count": 12,
     "metadata": {},
     "output_type": "execute_result"
    }
   ],
   "source": [
    "#La posición \"010641\" pierde precisión si se pide con mayor ventana temporal\n",
    "print(tables.position_to_desc(\"010641\", HS=\"HS17\"))\n",
    "print(\"*\"*75)\n",
    "tables.find_homogeneous_serie(\"010641\", 2007, 2022)"
   ]
  },
  {
   "cell_type": "code",
   "execution_count": 13,
   "id": "fa473f0a-565a-4902-8fa8-d41e4b682fb9",
   "metadata": {},
   "outputs": [
    {
     "name": "stdout",
     "output_type": "stream",
     "text": [
      "010641 - Insects; live, bees\n",
      "***************************************************************************\n"
     ]
    },
    {
     "data": {
      "text/plain": [
       "['HS02-010611',\n",
       " 'HS02-010612',\n",
       " 'HS02-010619',\n",
       " 'HS02-010620',\n",
       " 'HS02-010631',\n",
       " 'HS02-010632',\n",
       " 'HS02-010639',\n",
       " 'HS02-010690',\n",
       " 'HS07-010611',\n",
       " 'HS07-010612',\n",
       " 'HS07-010619',\n",
       " 'HS07-010620',\n",
       " 'HS07-010631',\n",
       " 'HS07-010632',\n",
       " 'HS07-010639',\n",
       " 'HS07-010690',\n",
       " 'HS12-010611',\n",
       " 'HS12-010612',\n",
       " 'HS12-010613',\n",
       " 'HS12-010614',\n",
       " 'HS12-010619',\n",
       " 'HS12-010620',\n",
       " 'HS12-010631',\n",
       " 'HS12-010632',\n",
       " 'HS12-010633',\n",
       " 'HS12-010639',\n",
       " 'HS12-010641',\n",
       " 'HS12-010649',\n",
       " 'HS12-010690',\n",
       " 'HS17-010611',\n",
       " 'HS17-010612',\n",
       " 'HS17-010613',\n",
       " 'HS17-010614',\n",
       " 'HS17-010619',\n",
       " 'HS17-010620',\n",
       " 'HS17-010631',\n",
       " 'HS17-010632',\n",
       " 'HS17-010633',\n",
       " 'HS17-010639',\n",
       " 'HS17-010641',\n",
       " 'HS17-010649',\n",
       " 'HS17-010690',\n",
       " 'HS92-010600',\n",
       " 'HS96-010600']"
      ]
     },
     "execution_count": 13,
     "metadata": {},
     "output_type": "execute_result"
    }
   ],
   "source": [
    "#La posición \"010641\" pierde precisión si se pide con mayor ventana temporal\n",
    "print(tables.position_to_desc(\"010641\", HS=\"HS17\"))\n",
    "print(\"*\"*75)\n",
    "tables.find_homogeneous_serie(\"010641\", 1992, 2022)"
   ]
  },
  {
   "cell_type": "markdown",
   "id": "f16d0653-5671-49cf-a03f-bf4bd9e2424b",
   "metadata": {},
   "source": [
    "### Se puede ver mejor en un diagrama 😉"
   ]
  },
  {
   "cell_type": "markdown",
   "id": "ed1bdd0f-9987-4bec-b5f4-f26c0201f03e",
   "metadata": {},
   "source": [
    "**010641 - Insects; live, bees**"
   ]
  },
  {
   "cell_type": "code",
   "execution_count": 15,
   "id": "bcc7627b-efaf-44ca-b81f-9bf09ba6145f",
   "metadata": {},
   "outputs": [],
   "source": [
    "import plotly.graph_objects as go\n",
    "import chart_studio.plotly as py\n",
    "import plotly\n",
    "os.chdir('C:\\\\Users\\\\Usuario\\\\Desktop\\\\CEP\\\\HSConversionTables')\n",
    "\n",
    "pos = \"010641\"\n",
    "\n",
    "fig = tables.genSankey(pos, start_year = 1992, end_year = 2021, output_title=f\"Sankey Diagram - {pos}\")\n",
    "if fig is not None:\n",
    "    plotly.offline.plot(fig, validate=False, filename = f\"./img/{pos}.html\")"
   ]
  },
  {
   "cell_type": "markdown",
   "id": "fee2cd7f-eb6b-4797-95e4-2a0601ebb28a",
   "metadata": {
    "tags": []
   },
   "source": [
    "**010130 - Asses; live**"
   ]
  },
  {
   "cell_type": "code",
   "execution_count": 17,
   "id": "37614c77-7a28-43dd-8470-f4fe680d4ab3",
   "metadata": {},
   "outputs": [],
   "source": [
    "import plotly.graph_objects as go\n",
    "import chart_studio.plotly as py\n",
    "import plotly\n",
    "os.chdir('C:\\\\Users\\\\Usuario\\\\Desktop\\\\CEP\\\\HSConversionTables')\n",
    "\n",
    "pos = \"010130\"\n",
    "\n",
    "fig = tables.genSankey(pos, start_year = 1992, end_year = 2021, output_title=f\"Sankey Diagram - {pos}\")\n",
    "if fig is not None:\n",
    "    plotly.offline.plot(fig, validate=False, filename = f\"./img/{pos}.html\")"
   ]
  },
  {
   "cell_type": "markdown",
   "id": "56d4464a-fde2-4d65-b7a3-afca378628a9",
   "metadata": {},
   "source": [
    "**020110 - Meat; of bovine animals, carcasses and half-carcasses, fresh or chilled**"
   ]
  },
  {
   "cell_type": "code",
   "execution_count": 18,
   "id": "c99549e6-bf01-46b2-a2bb-245790ddef46",
   "metadata": {},
   "outputs": [],
   "source": [
    "import plotly.graph_objects as go\n",
    "import chart_studio.plotly as py\n",
    "import plotly\n",
    "os.chdir('C:\\\\Users\\\\Usuario\\\\Desktop\\\\CEP\\\\HSConversionTables')\n",
    "\n",
    "pos = \"020110\"\n",
    "\n",
    "fig = tables.genSankey(pos, start_year = 1992, end_year = 2021, output_title=f\"Sankey Diagram - {pos}\")\n",
    "if fig is not None:\n",
    "    plotly.offline.plot(fig, validate=False, filename = f\"./img/{pos}.html\")"
   ]
  },
  {
   "cell_type": "markdown",
   "id": "71190c22-6d6a-4065-9812-acfc6440a11b",
   "metadata": {},
   "source": [
    "### A menos que... 😭"
   ]
  },
  {
   "cell_type": "markdown",
   "id": "a0390af8-53cd-4560-bcc1-a82ed07aaad7",
   "metadata": {},
   "source": [
    "**847010 - Calculating machines; electronic calculators capable of operation without an external source of electric power and pocket-size data recording, reproducing and displaying machines with calculating functions**"
   ]
  },
  {
   "cell_type": "code",
   "execution_count": 20,
   "id": "7ab22063-06f1-4c04-a32e-74787d80c26e",
   "metadata": {},
   "outputs": [],
   "source": [
    "import plotly.graph_objects as go\n",
    "import chart_studio.plotly as py\n",
    "import plotly\n",
    "os.chdir('C:\\\\Users\\\\Usuario\\\\Desktop\\\\CEP\\\\HSConversionTables')\n",
    "\n",
    "pos = \"847010\"\n",
    "\n",
    "fig = tables.genSankey(pos, start_year = 1992, end_year = 2021, output_title=f\"Sankey Diagram - {pos}\")\n",
    "if fig is not None:\n",
    "    plotly.offline.plot(fig, validate=False, filename = f\"./img/{pos}.html\")"
   ]
  },
  {
   "cell_type": "markdown",
   "id": "15905f5f-56c1-4c70-b423-e312fd34643f",
   "metadata": {
    "tags": []
   },
   "source": [
    "## Viendo todo junto"
   ]
  },
  {
   "cell_type": "code",
   "execution_count": 5,
   "id": "f039a7e6-0dcf-448b-b224-721dcd6e269d",
   "metadata": {},
   "outputs": [
    {
     "name": "stdout",
     "output_type": "stream",
     "text": [
      "Period between 1992 and 2022 contains the HS92,HS96,HS02,HS07,HS12,HS17 versions\n",
      "\n",
      "Loading HS Correlations Tables\n",
      "\n",
      "The position 010641 was included in the HS12,HS17 versions\n",
      "\n",
      "Evaluating maximum period with no precision loss for position 010641\n",
      "\n",
      "Evaluating graph object with HS12,HS17 versions\n",
      "\n",
      "Your position has no precision loss from 2012 to 2022\n",
      "***************************************************************************\n",
      "The positions you have to use to maintain homogeneous series between 1992 and 2022 is: \n",
      "\n",
      " ['HS02-010611', 'HS02-010612', 'HS02-010619', 'HS02-010620', 'HS02-010631', 'HS02-010632', 'HS02-010639', 'HS02-010690', 'HS07-010611', 'HS07-010612', 'HS07-010619', 'HS07-010620', 'HS07-010631', 'HS07-010632', 'HS07-010639', 'HS07-010690', 'HS12-010611', 'HS12-010612', 'HS12-010613', 'HS12-010614', 'HS12-010619', 'HS12-010620', 'HS12-010631', 'HS12-010632', 'HS12-010633', 'HS12-010639', 'HS12-010641', 'HS12-010649', 'HS12-010690', 'HS17-010611', 'HS17-010612', 'HS17-010613', 'HS17-010614', 'HS17-010619', 'HS17-010620', 'HS17-010631', 'HS17-010632', 'HS17-010633', 'HS17-010639', 'HS17-010641', 'HS17-010649', 'HS17-010690', 'HS92-010600', 'HS96-010600']\n"
     ]
    },
    {
     "data": {
      "text/plain": [
       "'C:\\\\Users\\\\Usuario\\\\Desktop\\\\CEP\\\\HSConversionTables\\\\img\\\\010641.html'"
      ]
     },
     "execution_count": 5,
     "metadata": {},
     "output_type": "execute_result"
    }
   ],
   "source": [
    "tables.query(position=\"010641\", sankey=True)"
   ]
  },
  {
   "cell_type": "code",
   "execution_count": null,
   "id": "54ec478c-a12d-4880-890a-e372fb470b61",
   "metadata": {},
   "outputs": [],
   "source": [
    "tables."
   ]
  }
 ],
 "metadata": {
  "kernelspec": {
   "display_name": "Python 3 (ipykernel)",
   "language": "python",
   "name": "python3"
  },
  "language_info": {
   "codemirror_mode": {
    "name": "ipython",
    "version": 3
   },
   "file_extension": ".py",
   "mimetype": "text/x-python",
   "name": "python",
   "nbconvert_exporter": "python",
   "pygments_lexer": "ipython3",
   "version": "3.9.7"
  }
 },
 "nbformat": 4,
 "nbformat_minor": 5
}
