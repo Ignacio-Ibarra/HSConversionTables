{
 "cells": [
  {
   "cell_type": "markdown",
   "id": "90fab08c-04ae-4b25-b88d-5c291faa740f",
   "metadata": {},
   "source": [
    "# Grafo Tablas Correlación del HS"
   ]
  },
  {
   "cell_type": "markdown",
   "id": "54f894da-1249-4fb1-b4bf-a40a2bc32168",
   "metadata": {},
   "source": [
    "El presente notebook contiene todo el programa necesario para procesar las tablas de correlación y para obtener los siguientes resultados: \n",
    "\n",
    "* Para una posición dada se obtiene el horizonte temporal máximo con el que se puede contar sin que se pierda precisión en el producto estudiado. \n",
    "* Dado un horizonte temporal de estudio deseado y una posición, el programa devuelve todas las posiciones que son necesarias agregar para obtener un producto homogéneo a lo largo del tiempo. La salida se puede obtener mediante un Digrama de Sankey o mediante texto. \n",
    "* Una vez inicializado la clase HSCorrelations(), se puede consultar otros métodos mediante `available_methods()`\n",
    "    "
   ]
  },
  {
   "cell_type": "code",
   "execution_count": 2,
   "id": "4a5acd2b-996b-44d0-bf39-e93f5c1ff92d",
   "metadata": {},
   "outputs": [],
   "source": [
    "from HSCorrelations import * #Todo el progrma se encuentra en HSCorrelations.py"
   ]
  },
  {
   "cell_type": "code",
   "execution_count": 3,
   "id": "186272f4-1b9a-41de-be74-eaa1ffad6728",
   "metadata": {
    "tags": []
   },
   "outputs": [
    {
     "name": "stdout",
     "output_type": "stream",
     "text": [
      "Loading HS Correlation Tables from path provided\n",
      "Tables already loaded. Use `available_methods()` for more information\n",
      "\n"
     ]
    }
   ],
   "source": [
    "fullpath = 'C:\\\\Users\\\\Usuario\\\\Desktop\\\\CEP\\\\HSConversionTables\\\\data\\\\CompleteCorrelationsOfHS-SITC-BEC_20170606.xlsx'\n",
    "a = HSCorrelations(path = fullpath)"
   ]
  },
  {
   "cell_type": "code",
   "execution_count": 36,
   "id": "fa473f0a-565a-4902-8fa8-d41e4b682fb9",
   "metadata": {},
   "outputs": [
    {
     "name": "stdout",
     "output_type": "stream",
     "text": [
      "010641 - Insects; live, bees\n"
     ]
    }
   ],
   "source": [
    "a.position_to_desc(position=\"010641\", HS=\"HS17\")"
   ]
  },
  {
   "cell_type": "code",
   "execution_count": 153,
   "id": "bcc7627b-efaf-44ca-b81f-9bf09ba6145f",
   "metadata": {},
   "outputs": [
    {
     "name": "stdout",
     "output_type": "stream",
     "text": [
      "True\n"
     ]
    }
   ],
   "source": [
    "print(a.check_position(\"010130\"))"
   ]
  },
  {
   "cell_type": "code",
   "execution_count": 42,
   "id": "8cc5b01a-5280-4e18-a4d4-c60f21c9b53d",
   "metadata": {
    "tags": []
   },
   "outputs": [
    {
     "data": {
      "text/html": [
       "<div>\n",
       "<style scoped>\n",
       "    .dataframe tbody tr th:only-of-type {\n",
       "        vertical-align: middle;\n",
       "    }\n",
       "\n",
       "    .dataframe tbody tr th {\n",
       "        vertical-align: top;\n",
       "    }\n",
       "\n",
       "    .dataframe thead th {\n",
       "        text-align: right;\n",
       "    }\n",
       "</style>\n",
       "<table border=\"1\" class=\"dataframe\">\n",
       "  <thead>\n",
       "    <tr style=\"text-align: right;\">\n",
       "      <th></th>\n",
       "      <th>HS07</th>\n",
       "    </tr>\n",
       "  </thead>\n",
       "  <tbody>\n",
       "  </tbody>\n",
       "</table>\n",
       "</div>"
      ],
      "text/plain": [
       "Empty DataFrame\n",
       "Columns: [HS07]\n",
       "Index: []"
      ]
     },
     "execution_count": 42,
     "metadata": {},
     "output_type": "execute_result"
    }
   ],
   "source": [
    "a.get_codes(version=\"HS07\", chapter=\"010641\")"
   ]
  },
  {
   "cell_type": "code",
   "execution_count": 122,
   "id": "37614c77-7a28-43dd-8470-f4fe680d4ab3",
   "metadata": {},
   "outputs": [
    {
     "data": {
      "text/plain": [
       "['HS92', 'HS96', 'HS02', 'HS07', 'HS12', 'HS17']"
      ]
     },
     "execution_count": 122,
     "metadata": {},
     "output_type": "execute_result"
    }
   ],
   "source": [
    "a.get_versions()"
   ]
  },
  {
   "cell_type": "code",
   "execution_count": 4,
   "id": "8d87ab62-b17c-4dca-866a-4c42dea2ba9f",
   "metadata": {},
   "outputs": [
    {
     "data": {
      "text/plain": [
       "['HS02', 'HS07', 'HS12', 'HS17']"
      ]
     },
     "execution_count": 4,
     "metadata": {},
     "output_type": "execute_result"
    }
   ],
   "source": [
    "a.year_to_HS(2006,2022)"
   ]
  },
  {
   "cell_type": "code",
   "execution_count": 64,
   "id": "7ab22063-06f1-4c04-a32e-74787d80c26e",
   "metadata": {},
   "outputs": [
    {
     "name": "stdout",
     "output_type": "stream",
     "text": [
      "['HS12', 'HS17']\n",
      "(8440, 2)\n",
      "['010641']\n"
     ]
    },
    {
     "data": {
      "text/html": [
       "<div>\n",
       "<style scoped>\n",
       "    .dataframe tbody tr th:only-of-type {\n",
       "        vertical-align: middle;\n",
       "    }\n",
       "\n",
       "    .dataframe tbody tr th {\n",
       "        vertical-align: top;\n",
       "    }\n",
       "\n",
       "    .dataframe thead th {\n",
       "        text-align: right;\n",
       "    }\n",
       "</style>\n",
       "<table border=\"1\" class=\"dataframe\">\n",
       "  <thead>\n",
       "    <tr style=\"text-align: right;\">\n",
       "      <th></th>\n",
       "      <th>HS12</th>\n",
       "      <th>HS17</th>\n",
       "    </tr>\n",
       "  </thead>\n",
       "  <tbody>\n",
       "    <tr>\n",
       "      <th>0</th>\n",
       "      <td>010641</td>\n",
       "      <td>010641</td>\n",
       "    </tr>\n",
       "  </tbody>\n",
       "</table>\n",
       "</div>"
      ],
      "text/plain": [
       "     HS12    HS17\n",
       "0  010641  010641"
      ]
     },
     "execution_count": 64,
     "metadata": {},
     "output_type": "execute_result"
    }
   ],
   "source": [
    "a.filter_df([\"010641\"], 2012, 2020)"
   ]
  },
  {
   "cell_type": "code",
   "execution_count": 63,
   "id": "364b32e4-e954-4890-8e1a-98704031cf26",
   "metadata": {},
   "outputs": [
    {
     "data": {
      "text/plain": [
       "['HS12', 'HS17']"
      ]
     },
     "execution_count": 63,
     "metadata": {},
     "output_type": "execute_result"
    }
   ],
   "source": [
    "a.year_to_HS(2012,2021)"
   ]
  },
  {
   "cell_type": "code",
   "execution_count": 22,
   "id": "b9731e75-2ddf-4f2b-9443-b79fc95a1cc4",
   "metadata": {},
   "outputs": [
    {
     "data": {
      "text/plain": [
       "['HS07-010690',\n",
       " 'HS12-010641',\n",
       " 'HS12-010649',\n",
       " 'HS12-010690',\n",
       " 'HS17-010641',\n",
       " 'HS17-010649',\n",
       " 'HS17-010690']"
      ]
     },
     "execution_count": 22,
     "metadata": {},
     "output_type": "execute_result"
    }
   ],
   "source": [
    "a.find_homogeneous_serie(\"010641\", 2007, 2021)"
   ]
  },
  {
   "cell_type": "code",
   "execution_count": 23,
   "id": "b46611b5-944f-403d-8b88-bc7e6531721c",
   "metadata": {},
   "outputs": [],
   "source": [
    "import plotly.graph_objects as go\n",
    "import chart_studio.plotly as py\n",
    "import plotly\n",
    "os.chdir('C:\\\\Users\\\\Usuario\\\\Desktop\\\\CEP\\\\HSConversionTables')\n",
    "\n",
    "fig = a.genSankey(\"010641\",start_year = 2007, end_year = 2021, output_title=\"Sankey Diagram - 010641\")\n",
    "if fig is not None:\n",
    "    plotly.offline.plot(fig, validate=False, filename = \"./img/010641.html\")"
   ]
  },
  {
   "cell_type": "code",
   "execution_count": 39,
   "id": "8d7c5371-3317-4b63-8f58-707951a1c1a6",
   "metadata": {},
   "outputs": [
    {
     "name": "stdout",
     "output_type": "stream",
     "text": [
      "Period between 1995 and 2019 contains the HS92,HS96,HS02,HS07,HS12,HS17 versions\n",
      "\n",
      "Loading HS Correlations Tables\n",
      "\n",
      "The position 010641 was included in the HS12,HS17 versions\n",
      "\n",
      "Evaluating maximum period with no precision loss for position 010641\n",
      "\n",
      "Evaluating graph object with HS12,HS17 versions\n",
      "\n",
      "Your position has no precision loss from 2012 to 2022\n"
     ]
    }
   ],
   "source": [
    "a.trade_off(\"010641\", 1995, 2019)"
   ]
  },
  {
   "cell_type": "code",
   "execution_count": 13,
   "id": "a37ac887-4787-4d45-a357-9b050752b599",
   "metadata": {},
   "outputs": [
    {
     "name": "stdout",
     "output_type": "stream",
     "text": [
      "Period between 1995 and 2019 contains the HS92,HS96,HS02,HS07,HS12,HS17 versions\n",
      "\n",
      "Loading HS Correlations Tables\n",
      "\n",
      "The position 020110 was included in the HS92,HS96,HS02,HS07,HS12,HS17 versions\n",
      "\n",
      "Evaluating maximum period with no precision loss for position 020110\n",
      "\n",
      "Evaluating graph object with HS12,HS17 versions\n",
      "\n",
      "Evaluating graph object with HS07,HS12,HS17 versions\n",
      "\n",
      "Evaluating graph object with HS02,HS07,HS12,HS17 versions\n",
      "\n",
      "Evaluating graph object with HS96,HS02,HS07,HS12,HS17 versions\n",
      "\n",
      "Evaluating graph object with HS92,HS96,HS02,HS07,HS12,HS17 versions\n",
      "\n",
      "Your position has no precision loss from 1992 to 2022\n"
     ]
    }
   ],
   "source": [
    "a.trade_off(\"020110\", 1995, 2019) #ejemplo de posición completa"
   ]
  }
 ],
 "metadata": {
  "kernelspec": {
   "display_name": "Python 3 (ipykernel)",
   "language": "python",
   "name": "python3"
  },
  "language_info": {
   "codemirror_mode": {
    "name": "ipython",
    "version": 3
   },
   "file_extension": ".py",
   "mimetype": "text/x-python",
   "name": "python",
   "nbconvert_exporter": "python",
   "pygments_lexer": "ipython3",
   "version": "3.9.7"
  }
 },
 "nbformat": 4,
 "nbformat_minor": 5
}
