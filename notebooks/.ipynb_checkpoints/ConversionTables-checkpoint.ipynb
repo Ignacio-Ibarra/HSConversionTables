{
 "cells": [
  {
   "cell_type": "markdown",
   "id": "116009e0-129f-4529-bc5f-900e856c0a6b",
   "metadata": {},
   "source": [
    "# Plotly"
   ]
  },
  {
   "cell_type": "code",
   "execution_count": 3,
   "id": "d4741433-0138-432d-9e61-90e88df54ef5",
   "metadata": {},
   "outputs": [],
   "source": [
    "import pandas as pd\n",
    "import plotly.graph_objects as go\n",
    "import chart_studio.plotly as py\n",
    "import plotly"
   ]
  },
  {
   "cell_type": "code",
   "execution_count": 4,
   "id": "4829202e-41e5-4eaa-af75-02ebe8bbef69",
   "metadata": {},
   "outputs": [
    {
     "name": "stdout",
     "output_type": "stream",
     "text": [
      "C:\\Users\\Usuario\\Desktop\\CEP\\HSConversionTables\n"
     ]
    }
   ],
   "source": [
    "#Directorio\n",
    "import os\n",
    "from pathlib import Path\n",
    "import platform\n",
    "#Directorio\n",
    "directory = \"HSConversionTables\"\n",
    "if platform.system()=='Windows':\n",
    "    Path(r'C:/Users/Usuario/Desktop/CEP/'+directory).mkdir(parents=True, exist_ok=True)\n",
    "    os.chdir(r'C:/Users/Usuario/Desktop/CEP/'+directory)\n",
    "else: \n",
    "    Path('/home/nachengue/Escritorio/CEP/'+directory).mkdir(parents=True, exist_ok=True)\n",
    "    os.chdir('/home/nachengue/Escritorio/CEP/'+directory)\n",
    "print(os.getcwd())"
   ]
  },
  {
   "cell_type": "code",
   "execution_count": 5,
   "id": "06d2487e-fafb-4653-b1a8-71277bde2d12",
   "metadata": {},
   "outputs": [],
   "source": [
    "HSTABLES = \"https://unstats.un.org/unsd/trade/classifications/tables/CompleteCorrelationsOfHS-SITC-BEC_20170606.xlsx\"\n",
    "\n",
    "HS = ['HS92', 'HS96', 'HS02', 'HS07', 'HS12', 'HS17'] #should be updated if changed\n",
    "\n",
    "\n",
    "data = pd.read_excel(HSTABLES,\n",
    "                     usecols= HS,\n",
    "                     dtype = {v:'object' for v in HS}).dropna().drop_duplicates()\n",
    "\n",
    "for col in HS: \n",
    "    data[col] = data[col].apply(lambda x: col+\"-\"+str(int(x)).zfill(6))\n",
    "data['count'] = 1"
   ]
  },
  {
   "cell_type": "code",
   "execution_count": 11,
   "id": "14516cb6-db2b-4fef-ba4f-c8861415057c",
   "metadata": {},
   "outputs": [],
   "source": [
    "def genSankey(df,cat_cols=[],value_cols='',title='Sankey Diagram'):\n",
    "    # maximum of 6 value cols -> 6 colors\n",
    "    colorPalette = ['#4B8BBE','#306998','#FFE873','#FFD43B','#646464',\"#002060\"]\n",
    "    labelList = []\n",
    "    colorNumList = []\n",
    "    for catCol in cat_cols:\n",
    "        labelListTemp =  list(set(df[catCol].values))\n",
    "        colorNumList.append(len(labelListTemp))\n",
    "        labelList = labelList + labelListTemp\n",
    "        \n",
    "    # remove duplicates from labelList\n",
    "    labelList = list(dict.fromkeys(labelList))\n",
    "    \n",
    "    # define colors based on number of levels\n",
    "    colorList = []\n",
    "    for idx, colorNum in enumerate(colorNumList):\n",
    "        colorList = colorList + [colorPalette[idx]]*colorNum\n",
    "        \n",
    "    # transform df into a source-target pair\n",
    "    for i in range(len(cat_cols)-1):\n",
    "        if i==0:\n",
    "            sourceTargetDf = df[[cat_cols[i],cat_cols[i+1],value_cols]]\n",
    "            sourceTargetDf.columns = ['source','target','count']\n",
    "        else:\n",
    "            tempDf = df[[cat_cols[i],cat_cols[i+1],value_cols]]\n",
    "            tempDf.columns = ['source','target','count']\n",
    "            sourceTargetDf = pd.concat([sourceTargetDf,tempDf])\n",
    "    \n",
    "    sourceTargetDf = sourceTargetDf.groupby(['source','target']).agg({'count':'sum'}).reset_index()\n",
    "        \n",
    "    # add index for source-target pair\n",
    "    sourceTargetDf['sourceID'] = sourceTargetDf['source'].apply(lambda x: labelList.index(x))\n",
    "    sourceTargetDf['targetID'] = sourceTargetDf['target'].apply(lambda x: labelList.index(x))\n",
    "    \n",
    "    # creating the sankey diagram\n",
    "    data = dict(\n",
    "        type='sankey',\n",
    "        node = dict(\n",
    "          pad = 15,\n",
    "          thickness = 20,\n",
    "          line = dict(\n",
    "            color = \"black\",\n",
    "            width = 0.5\n",
    "          ),\n",
    "          label = labelList,\n",
    "          color = colorList\n",
    "        ),\n",
    "        link = dict(\n",
    "          source = sourceTargetDf['sourceID'],\n",
    "          target = sourceTargetDf['targetID'],\n",
    "          value = sourceTargetDf['count']\n",
    "        )\n",
    "      )\n",
    "    \n",
    "    layout =  dict(\n",
    "        title = title,\n",
    "        font = dict(\n",
    "          size = 15\n",
    "        )\n",
    "    )\n",
    "       \n",
    "    fig = dict(data=[data], layout=layout)\n",
    "    return fig"
   ]
  },
  {
   "cell_type": "code",
   "execution_count": 10,
   "id": "b4aa6ba6-0179-4779-b595-9a860b3b3f9e",
   "metadata": {},
   "outputs": [],
   "source": [
    "\n",
    "# #Function to return the used versions\n",
    "# import functools\n",
    "# from datetime import datetime\n",
    "\n",
    "# def return_used_versions(start_year = None, end_year=None):\n",
    "#     if start_year==None: \n",
    "#         start_year = 1992\n",
    "#     if end_year==None: \n",
    "#         end_year = datetime.now().year\n",
    "#     if start_year < 1992 or end_year<start_year or end_year>datetime.now().year: \n",
    "#         print(\"Uncorrect years\")\n",
    "#     else: \n",
    "#         years = [1992, 1996, 2002, 2007, 2012, 2017]\n",
    "#         version_dict = {k:v for k,v in zip(years, HS)}\n",
    "#         start_v = functools.reduce(lambda a,b: a if a<=start_year else b, list(reversed(years)))\n",
    "#         end_v = functools.reduce(lambda a,b: a if a<=end_year else b, list(reversed(years)))\n",
    "#         years_list = years[years.index(start_v):years.index(end_v)+1]\n",
    "#         return [version_dict[x] for x in years_list]"
   ]
  },
  {
   "cell_type": "code",
   "execution_count": 8,
   "id": "2a0380c9-7605-42fe-9a45-4f95752b362a",
   "metadata": {},
   "outputs": [],
   "source": [
    "\n",
    "# def return_df2(df,cat_cols=[]):\n",
    "    \n",
    "#     labelList = []\n",
    "    \n",
    "#     for catCol in cat_cols:\n",
    "#         labelListTemp =  list(set(df[catCol].values))\n",
    "#         labelList = labelList + labelListTemp\n",
    "        \n",
    "#     # remove duplicates from labelList\n",
    "#     labelList = list(dict.fromkeys(labelList))\n",
    "    \n",
    "         \n",
    "#     # transform df into a source-target pair\n",
    "#     for i in range(len(cat_cols)-1):\n",
    "#         if i==0:\n",
    "#             sourceTargetDf = df[[cat_cols[i],cat_cols[i+1]]]\n",
    "#             sourceTargetDf.columns = ['source','target']\n",
    "#         else:\n",
    "#             tempDf = df[[cat_cols[i],cat_cols[i+1]]]\n",
    "#             tempDf.columns = ['source','target']\n",
    "#             sourceTargetDf = pd.concat([sourceTargetDf,tempDf])\n",
    "    \n",
    "#     sourceTargetDf = sourceTargetDf.drop_duplicates()\n",
    "        \n",
    "#     # add index for source-target pair\n",
    "#     sourceTargetDf['sourceID'] = sourceTargetDf['source'].apply(lambda x: labelList.index(x))\n",
    "#     sourceTargetDf['targetID'] = sourceTargetDf['target'].apply(lambda x: labelList.index(x))\n",
    "\n",
    "#     return sourceTargetDf\n",
    "    \n",
    "    \n",
    "    \n",
    "# def get_outer_targets(data, position=None, start_year = None, end_year=None): \n",
    "    \n",
    "#     versions = return_used_versions(start_year, end_year)\n",
    "    \n",
    "#     data = return_df2(data, cat_cols=versions)\n",
    "        \n",
    "#     lversion = versions[-1]\n",
    "#     rel_ids = data[data.target==lversion+\"-\"+str(position)]['sourceID'].to_list()\n",
    "#     return data[data.sourceID.isin(rel_ids)]['target'].unique().tolist(), versions\n",
    "\n",
    "# def genSankeybyPosition(data, position=None, start_year=None, end_year=None):\n",
    "#     target_list, versions = get_outer_targets(data, position, start_year, end_year)\n",
    "#     data = data[data[versions[-1]].isin(target_list)].reset_index(drop=True)\n",
    "#     return genSankey(data, versions, value_cols='count', title=\"Position {}\".format(versions[-1]+\"-\"+str(position)))"
   ]
  },
  {
   "cell_type": "code",
   "execution_count": 12,
   "id": "8639613a-693a-41d2-ab59-c7ccede39eaf",
   "metadata": {},
   "outputs": [
    {
     "data": {
      "text/plain": [
       "'temp-plot.html'"
      ]
     },
     "execution_count": 12,
     "metadata": {},
     "output_type": "execute_result"
    }
   ],
   "source": [
    "# #pos = \"010290\"\n",
    "\n",
    "# pos = \"854231\"  \n",
    "\n",
    "# #Procesadores y controladores, incluso combinados con memorias, convertidores, circuitos lógicos, amplificadores, relojes y circuitos de sincronización, u otros circuitos \n",
    "\n",
    "# fig = genSankeybyPosition(data, position=pos, start_year=2010, end_year=2020)\n",
    "# plotly.offline.plot(fig, validate=False)"
   ]
  },
  {
   "cell_type": "code",
   "execution_count": 14,
   "id": "f874f74f-1b84-4704-b7c4-85c5506647b8",
   "metadata": {},
   "outputs": [],
   "source": [
    "fig = genSankey(data[data.HS12==\"HS12-010130\"], cat_cols = HS, value_cols = 'count', title = \"HS02-010110\")\n",
    "plotly.offline.plot(fig, validate=False)"
   ]
  }
 ],
 "metadata": {
  "kernelspec": {
   "display_name": "Python 3 (ipykernel)",
   "language": "python",
   "name": "python3"
  },
  "language_info": {
   "codemirror_mode": {
    "name": "ipython",
    "version": 3
   },
   "file_extension": ".py",
   "mimetype": "text/x-python",
   "name": "python",
   "nbconvert_exporter": "python",
   "pygments_lexer": "ipython3",
   "version": "3.9.7"
  }
 },
 "nbformat": 4,
 "nbformat_minor": 5
}
