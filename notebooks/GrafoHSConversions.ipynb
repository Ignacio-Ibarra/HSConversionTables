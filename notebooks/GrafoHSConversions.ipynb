{
 "cells": [
  {
   "cell_type": "code",
   "execution_count": 1,
   "id": "256d55eb-f944-4bff-931f-28ee2f4fb723",
   "metadata": {},
   "outputs": [
    {
     "name": "stdout",
     "output_type": "stream",
     "text": [
      "/home/nachengue/Escritorio/CEP/HSConversionTables\n"
     ]
    }
   ],
   "source": [
    "import pandas as pd\n",
    "import os\n",
    "from pathlib import Path\n",
    "import platform\n",
    "\n",
    "#Directorio\n",
    "directory = \"HSConversionTables\"\n",
    "if platform.system()=='Windows':\n",
    "    Path('C:/Users/Asus/Desktop/CEP/pedidos Igal/'+directory).mkdir(parents=True, exist_ok=True)\n",
    "    os.chdir('C:/Users/Asus/Desktop/CEP/pedidos Igal'+directory)\n",
    "else: \n",
    "    Path('/home/nachengue/Escritorio/CEP/'+directory).mkdir(parents=True, exist_ok=True)\n",
    "    os.chdir('/home/nachengue/Escritorio/CEP/'+directory)\n",
    "print(os.getcwd())\n",
    "\n",
    "data = pd.read_excel(\"./data/CompleteCorrelationsOfHS-SITC-BEC_20170606.xlsx\")\n",
    "cols = ['HS92','HS96','HS02','HS07','HS12','HS17']\n",
    "data = data[cols].dropna().drop_duplicates()\n",
    "for col in cols: \n",
    "    data[col] = data[col].apply(lambda x: col+\"-\"+str(int(x)).zfill(6))\n",
    "connections = []\n",
    "for i in range(len(cols)-1): \n",
    "        temp_tup_list = list(data[[cols[i], cols[i+1]]].drop_duplicates().itertuples(index=False, name=None))\n",
    "        connections = connections + temp_tup_list"
   ]
  },
  {
   "cell_type": "code",
   "execution_count": 3,
   "id": "b2759336-7054-4311-b3cc-4e3e0e8d26c2",
   "metadata": {},
   "outputs": [],
   "source": [
    "import networkx as nx\n",
    "\n",
    "G = nx.Graph()\n",
    "G.add_edges_from(connections)"
   ]
  },
  {
   "cell_type": "code",
   "execution_count": 20,
   "id": "08c508cd-27e6-4938-8e8e-7fd25777681b",
   "metadata": {},
   "outputs": [
    {
     "data": {
      "text/plain": [
       "5388"
      ]
     },
     "execution_count": 20,
     "metadata": {},
     "output_type": "execute_result"
    }
   ],
   "source": [
    "#len(list(nx.connected_components(G))) #cantidad de posiciones homogenizables: 3832 \n",
    "#len([x for x in list(nx.connected_components(G)) if len(x)==6]) #cantidad de grupos con relacion 1:1: 3328\n",
    "#len([x for x in list(nx.connected_components(G)) if len(x)>6]) #cantidad de grupos con más de 6 componentes: 504\n",
    "#len(data.HS17.unique()) #cantidad de posiciones distintas en HS17: 5388\n",
    "#sorted(nx.node_connected_component(G, \"HS17-854233\"))"
   ]
  },
  {
   "cell_type": "code",
   "execution_count": 13,
   "id": "c52da41c-a7c7-42a4-ac8d-221839e32ff0",
   "metadata": {},
   "outputs": [
    {
     "data": {
      "text/plain": [
       "set"
      ]
     },
     "execution_count": 13,
     "metadata": {},
     "output_type": "execute_result"
    }
   ],
   "source": [
    "type(nx.node_connected_component(G, \"HS17-010190\"))"
   ]
  },
  {
   "cell_type": "code",
   "execution_count": 30,
   "id": "2f49334e-a261-4dbf-82ef-6763a95df217",
   "metadata": {},
   "outputs": [
    {
     "name": "stdout",
     "output_type": "stream",
     "text": [
      "8.09159707724426\n",
      "\n",
      "6.0\n"
     ]
    }
   ],
   "source": [
    "# from statistics import mean, median\n",
    "# print(mean([len(x) for x in list(nx.connected_components(G))]))\n",
    "# print()\n",
    "# print(median([len(x) for x in list(nx.connected_components(G))]))"
   ]
  },
  {
   "cell_type": "code",
   "execution_count": 5,
   "id": "85cdaa1c-c94e-4ec9-a00c-bdcc3e8c48ce",
   "metadata": {},
   "outputs": [],
   "source": [
    "q = \"HS17-854233\"\n",
    "positions = sorted(nx.node_connected_component(G, q))"
   ]
  },
  {
   "cell_type": "code",
   "execution_count": 11,
   "id": "606a70a4-e30b-454a-af09-e2afa8d7f733",
   "metadata": {},
   "outputs": [],
   "source": [
    "import re\n",
    "\n",
    "q = \"HS17-010190\"\n",
    "positions = sorted(nx.node_connected_component(G, q))\n",
    "\n",
    "for i in range(len(cols)): \n",
    "    r = re.compile(\"|\".join(cols[i:]))\n",
    "    filtered_list = list(filter(r.match, positions))\n",
    "    if len(filtered_list)==len(cols[i:]):\n",
    "        print(f\"you'll have homogeneus serie with {cols[:i]}\")\n",
    "        break"
   ]
  },
  {
   "cell_type": "code",
   "execution_count": 7,
   "id": "ad8e81af-fd75-4d8a-ba56-b163c07755b9",
   "metadata": {},
   "outputs": [
    {
     "name": "stdout",
     "output_type": "stream",
     "text": [
      "['HS92', 'HS96', 'HS02', 'HS07', 'HS12', 'HS17']\n",
      "['HS96', 'HS02', 'HS07', 'HS12', 'HS17']\n",
      "['HS02', 'HS07', 'HS12', 'HS17']\n",
      "['HS07', 'HS12', 'HS17']\n",
      "['HS12', 'HS17']\n",
      "['HS17']\n"
     ]
    }
   ],
   "source": [
    "for i in range(len(cols)): \n",
    "    print(cols[i:])"
   ]
  }
 ],
 "metadata": {
  "kernelspec": {
   "display_name": "Python 3 (ipykernel)",
   "language": "python",
   "name": "python3"
  },
  "language_info": {
   "codemirror_mode": {
    "name": "ipython",
    "version": 3
   },
   "file_extension": ".py",
   "mimetype": "text/x-python",
   "name": "python",
   "nbconvert_exporter": "python",
   "pygments_lexer": "ipython3",
   "version": "3.8.10"
  }
 },
 "nbformat": 4,
 "nbformat_minor": 5
}
